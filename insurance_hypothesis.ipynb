{
 "cells": [
  {
   "cell_type": "code",
   "execution_count": 1,
   "id": "cc4aeb04-fd5f-48a7-b2cc-3864396b6371",
   "metadata": {},
   "outputs": [],
   "source": [
    "import numpy as np\n",
    "import pandas as pd\n",
    "from scipy.stats import ttest_ind, chi2_contingency, f_oneway, shapiro, levene, bartlett\n",
    "import matplotlib.pyplot as plt"
   ]
  },
  {
   "cell_type": "code",
   "execution_count": 2,
   "id": "bf0e6951-ac6f-49bd-9078-d4a023dcfb37",
   "metadata": {},
   "outputs": [
    {
     "data": {
      "text/html": [
       "<div>\n",
       "<style scoped>\n",
       "    .dataframe tbody tr th:only-of-type {\n",
       "        vertical-align: middle;\n",
       "    }\n",
       "\n",
       "    .dataframe tbody tr th {\n",
       "        vertical-align: top;\n",
       "    }\n",
       "\n",
       "    .dataframe thead th {\n",
       "        text-align: right;\n",
       "    }\n",
       "</style>\n",
       "<table border=\"1\" class=\"dataframe\">\n",
       "  <thead>\n",
       "    <tr style=\"text-align: right;\">\n",
       "      <th></th>\n",
       "      <th>age</th>\n",
       "      <th>sex</th>\n",
       "      <th>bmi</th>\n",
       "      <th>children</th>\n",
       "      <th>smoker</th>\n",
       "      <th>region</th>\n",
       "      <th>charges</th>\n",
       "    </tr>\n",
       "  </thead>\n",
       "  <tbody>\n",
       "    <tr>\n",
       "      <th>0</th>\n",
       "      <td>19</td>\n",
       "      <td>female</td>\n",
       "      <td>27.900</td>\n",
       "      <td>0</td>\n",
       "      <td>yes</td>\n",
       "      <td>southwest</td>\n",
       "      <td>16884.92400</td>\n",
       "    </tr>\n",
       "    <tr>\n",
       "      <th>1</th>\n",
       "      <td>18</td>\n",
       "      <td>male</td>\n",
       "      <td>33.770</td>\n",
       "      <td>1</td>\n",
       "      <td>no</td>\n",
       "      <td>southeast</td>\n",
       "      <td>1725.55230</td>\n",
       "    </tr>\n",
       "    <tr>\n",
       "      <th>2</th>\n",
       "      <td>28</td>\n",
       "      <td>male</td>\n",
       "      <td>33.000</td>\n",
       "      <td>3</td>\n",
       "      <td>no</td>\n",
       "      <td>southeast</td>\n",
       "      <td>4449.46200</td>\n",
       "    </tr>\n",
       "    <tr>\n",
       "      <th>3</th>\n",
       "      <td>33</td>\n",
       "      <td>male</td>\n",
       "      <td>22.705</td>\n",
       "      <td>0</td>\n",
       "      <td>no</td>\n",
       "      <td>northwest</td>\n",
       "      <td>21984.47061</td>\n",
       "    </tr>\n",
       "    <tr>\n",
       "      <th>4</th>\n",
       "      <td>32</td>\n",
       "      <td>male</td>\n",
       "      <td>28.880</td>\n",
       "      <td>0</td>\n",
       "      <td>no</td>\n",
       "      <td>northwest</td>\n",
       "      <td>3866.85520</td>\n",
       "    </tr>\n",
       "  </tbody>\n",
       "</table>\n",
       "</div>"
      ],
      "text/plain": [
       "   age     sex     bmi  children smoker     region      charges\n",
       "0   19  female  27.900         0    yes  southwest  16884.92400\n",
       "1   18    male  33.770         1     no  southeast   1725.55230\n",
       "2   28    male  33.000         3     no  southeast   4449.46200\n",
       "3   33    male  22.705         0     no  northwest  21984.47061\n",
       "4   32    male  28.880         0     no  northwest   3866.85520"
      ]
     },
     "execution_count": 2,
     "metadata": {},
     "output_type": "execute_result"
    }
   ],
   "source": [
    "df = pd.read_csv('insurance - insurance.csv')\n",
    "df.head()"
   ]
  },
  {
   "cell_type": "markdown",
   "id": "472c5a2c-3e0c-4245-add4-0a562348a786",
   "metadata": {
    "jp-MarkdownHeadingCollapsed": true
   },
   "source": [
    "# Q1:  Do smokers have higher insurance charges than non-smokers?"
   ]
  },
  {
   "cell_type": "markdown",
   "id": "c3fb7974-ed09-42c6-89d1-3ff2cb2e5e2c",
   "metadata": {},
   "source": [
    "## 1. State your Null Hypothesis and Alternative Hypothesis"
   ]
  },
  {
   "cell_type": "markdown",
   "id": "8a07c00c-bd63-47d9-a8fd-2fd331128574",
   "metadata": {},
   "source": [
    "- Null Hypothesis (H0): The mean insurance charges for smokers are equal to the mean insurance charges for non-smokers.\n",
    "- Alternative Hypothesis (H1): The mean insurance charges for smokers are different from the mean insurance charges for non-smokers."
   ]
  },
  {
   "cell_type": "markdown",
   "id": "b1dd0d1b-d020-46fc-be38-c304d82c8da0",
   "metadata": {},
   "source": [
    "## 2. Select the correct test according to the data type and number of samples"
   ]
  },
  {
   "cell_type": "markdown",
   "id": "6fb3f6d6-3a57-4499-a119-bbfe6bc1906f",
   "metadata": {},
   "source": [
    "- Independent two-sample t-test assuming unequal variances."
   ]
  },
  {
   "cell_type": "markdown",
   "id": "ab7a2f4a-e5a0-4a46-9cf3-67d334bf945e",
   "metadata": {},
   "source": [
    "## 3. Test the assumptions of your selected test."
   ]
  },
  {
   "cell_type": "code",
   "execution_count": 3,
   "id": "2f690f04-b9a3-4e72-8261-0588e47f28a1",
   "metadata": {},
   "outputs": [],
   "source": [
    "smokers = df[df['smoker'] == 'yes']['charges']\n",
    "non_smokers = df[df['smoker'] == 'no']['charges']"
   ]
  },
  {
   "cell_type": "code",
   "execution_count": 4,
   "id": "113b6e46-d661-4909-ba09-387fe56e7a33",
   "metadata": {},
   "outputs": [],
   "source": [
    "_, p_value_normality_smokers = shapiro(smokers)\n",
    "_, p_value_normality_non_smokers = shapiro(non_smokers)"
   ]
  },
  {
   "cell_type": "code",
   "execution_count": 5,
   "id": "46190a1d-f478-40b6-aeb4-c65a098295f4",
   "metadata": {},
   "outputs": [],
   "source": [
    "# Equal Variance\n",
    "_, p_value_variances = levene(smokers, non_smokers)"
   ]
  },
  {
   "cell_type": "code",
   "execution_count": 6,
   "id": "12466838-ed3b-455d-b002-9c465eb9efe0",
   "metadata": {},
   "outputs": [
    {
     "name": "stdout",
     "output_type": "stream",
     "text": [
      "Normality assumption not satisfied for one or both groups. Consider non-parametric alternatives.\n",
      "Equal variance assumption not satisfied. Consider non-parametric alternatives.\n"
     ]
    }
   ],
   "source": [
    "# Summary\n",
    "if p_value_normality_smokers > 0.05 and p_value_normality_non_smokers > 0.05:\n",
    "    print(\"Normality assumption satisfied for both groups.\")\n",
    "else:\n",
    "    print(\"Normality assumption not satisfied for one or both groups. Consider non-parametric alternatives.\")\n",
    "\n",
    "if p_value_variances > 0.05:\n",
    "    print(\"Equal variance assumption satisfied.\")\n",
    "else:\n",
    "    print(\"Equal variance assumption not satisfied. Consider non-parametric alternatives.\")"
   ]
  },
  {
   "cell_type": "markdown",
   "id": "8e51abaa-72e7-429c-9051-e584a4593cdc",
   "metadata": {},
   "source": [
    "## 4. Execute the selected test, or the alternative test (if you do not meet the assumptions)"
   ]
  },
  {
   "cell_type": "code",
   "execution_count": 7,
   "id": "693de6a9-6af7-4832-a7e0-4e7d34fd7fcd",
   "metadata": {},
   "outputs": [],
   "source": [
    "# t-test\n",
    "t_stat, p_value_1 = ttest_ind(smokers, non_smokers, equal_var=False)"
   ]
  },
  {
   "cell_type": "markdown",
   "id": "423b04af-fe2b-47cd-8634-2b5998fe7aef",
   "metadata": {},
   "source": [
    "## 5. Interpret your p-value and reject or fail to reject your null hypothesis"
   ]
  },
  {
   "cell_type": "code",
   "execution_count": 8,
   "id": "dc95d099-e340-49a1-9d8f-e56ed5b75d26",
   "metadata": {},
   "outputs": [
    {
     "name": "stdout",
     "output_type": "stream",
     "text": [
      "Reject the null hypothesis. Smokers have significantly different insurance charges than non-smokers.\n"
     ]
    }
   ],
   "source": [
    "# Interpretation\n",
    "if p_value_1 < 0.05:\n",
    "    print(\"Reject the null hypothesis. Smokers have significantly different insurance charges than non-smokers.\")\n",
    "else:\n",
    "    print(\"Fail to reject the null hypothesis.\")"
   ]
  },
  {
   "cell_type": "markdown",
   "id": "78ebcd11-170d-4e08-bc37-6bbf6e893dac",
   "metadata": {},
   "source": [
    "## 6. Show a supporting visualization that helps display the result"
   ]
  },
  {
   "cell_type": "code",
   "execution_count": 9,
   "id": "a27d7a5f-162e-4506-b7d5-5d063975eb00",
   "metadata": {},
   "outputs": [
    {
     "data": {
      "image/png": "[encoded data removed]",
      "text/plain": [
       "<Figure size 640x480 with 1 Axes>"
      ]
     },
     "metadata": {},
     "output_type": "display_data"
    }
   ],
   "source": [
    "# Viz\n",
    "plt.boxplot([smokers, non_smokers], labels=['Smokers', 'Non-Smokers'])\n",
    "plt.ylabel('Insurance Charges')\n",
    "plt.title('Insurance Charges for Smokers and Non-Smokers')\n",
    "plt.show()"
   ]
  },
  {
   "cell_type": "markdown",
   "id": "3946deb0-eb8b-4e99-960f-55c1fb439765",
   "metadata": {
    "jp-MarkdownHeadingCollapsed": true
   },
   "source": [
    "# Q2: Are men more likely to smoke than women?"
   ]
  },
  {
   "cell_type": "markdown",
   "id": "e46e26de-6d9c-4f61-bd11-2f7f1a68e7fb",
   "metadata": {},
   "source": [
    "## 1. State your Null Hypothesis and Alternative Hypothesis"
   ]
  },
  {
   "cell_type": "markdown",
   "id": "57a559e2-a074-416a-94ae-3ba4e64e9c1a",
   "metadata": {},
   "source": [
    "- Null Hypothesis (H0): The proportion of smokers is the same for men and women.\n",
    "- Alternative Hypothesis (H1): The proportion of smokers is different between men and women."
   ]
  },
  {
   "cell_type": "markdown",
   "id": "ca5f0caa-a5ca-4cbd-a857-6fba2acdde06",
   "metadata": {},
   "source": [
    "## 2. Select the correct test according to the data type and number of samples"
   ]
  },
  {
   "cell_type": "markdown",
   "id": "8bdcd94d-617f-4768-95d9-2df462e0aeda",
   "metadata": {},
   "source": [
    "- Chi-square test for independence."
   ]
  },
  {
   "cell_type": "markdown",
   "id": "b67ad2d5-2887-4f8d-bafd-12b85bfbd68e",
   "metadata": {},
   "source": [
    "## 3. Test the assumptions of your selected test."
   ]
  },
  {
   "cell_type": "markdown",
   "id": "ec3dd0fe-35e3-4faa-b1f5-c48a7b1f3cb9",
   "metadata": {},
   "source": [
    "## 4. Execute the selected test, or the alternative test (if you do not meet the assumptions)"
   ]
  },
  {
   "cell_type": "code",
   "execution_count": 10,
   "id": "e57829e8-2d16-446c-bc92-4013f7d8f386",
   "metadata": {},
   "outputs": [],
   "source": [
    "# Create a contingency table\n",
    "contingency_table = pd.crosstab(df['sex'], df['smoker'])"
   ]
  },
  {
   "cell_type": "code",
   "execution_count": 11,
   "id": "3355fff0-19cd-4ef9-bc53-4c0f330b399f",
   "metadata": {},
   "outputs": [],
   "source": [
    "# Chi-square test\n",
    "chi2_stat, p_value_2, dof, expected = chi2_contingency(contingency_table)"
   ]
  },
  {
   "cell_type": "markdown",
   "id": "ec2f8695-3df8-4ab1-8ddf-d84d73fec826",
   "metadata": {},
   "source": [
    "## 5. Interpret your p-value and reject or fail to reject your null hypothesis"
   ]
  },
  {
   "cell_type": "code",
   "execution_count": 12,
   "id": "f3cc7c37-28cb-4dbd-98b9-5a9ed70443a8",
   "metadata": {},
   "outputs": [
    {
     "name": "stdout",
     "output_type": "stream",
     "text": [
      "Reject the null hypothesis. Smoking habits are significantly different between men and women.\n"
     ]
    }
   ],
   "source": [
    "# Interpretation\n",
    "if p_value_2 < 0.05:\n",
    "    print(\"Reject the null hypothesis. Smoking habits are significantly different between men and women.\")\n",
    "else:\n",
    "    print(\"Fail to reject the null hypothesis.\")"
   ]
  },
  {
   "cell_type": "markdown",
   "id": "d0b57558-8695-4d6c-930a-ee15a432eabd",
   "metadata": {},
   "source": [
    "## 6. Show a supporting visualization that helps display the result"
   ]
  },
  {
   "cell_type": "code",
   "execution_count": 13,
   "id": "d29258db-7b9f-4e7b-9431-ff0673f4ddf6",
   "metadata": {},
   "outputs": [
    {
     "data": {
      "image/png": "[encoded data removed]",
      "text/plain": [
       "<Figure size 640x480 with 1 Axes>"
      ]
     },
     "metadata": {},
     "output_type": "display_data"
    }
   ],
   "source": [
    "# Viz\n",
    "contingency_table.plot(kind='bar', stacked=True)\n",
    "plt.title('Smoking Habits Across Genders')\n",
    "plt.xlabel('Gender')\n",
    "plt.ylabel('Count')\n",
    "plt.show()"
   ]
  },
  {
   "cell_type": "markdown",
   "id": "9efd8835-9927-4fa0-a9fb-229e3288c6fd",
   "metadata": {
    "jp-MarkdownHeadingCollapsed": true
   },
   "source": [
    "# Q3. Do different regions have different charges, on average?"
   ]
  },
  {
   "cell_type": "markdown",
   "id": "2c60ddbd-a052-439e-8107-68171a2bda70",
   "metadata": {},
   "source": [
    "## 1. State your Null Hypothesis and Alternative Hypothesis"
   ]
  },
  {
   "cell_type": "markdown",
   "id": "1ee844ea-8042-4052-b209-359271b75331",
   "metadata": {},
   "source": [
    "- Null Hypothesis (H0): The mean insurance charges are equal across all regions.\n",
    "- Alternative Hypothesis (H1): The mean insurance charges are different across at least two regions."
   ]
  },
  {
   "cell_type": "markdown",
   "id": "c7df1e69-20f0-413b-91cc-4e68b40c007d",
   "metadata": {},
   "source": [
    "## 2. Select the correct test according to the data type and number of samples"
   ]
  },
  {
   "cell_type": "markdown",
   "id": "ca752738-62c4-4b44-ac30-aa57224394ec",
   "metadata": {},
   "source": [
    "- Analysis of Variance (ANOVA)."
   ]
  },
  {
   "cell_type": "markdown",
   "id": "92b4d3bd-bc35-46a9-9595-c7122eb6a5b0",
   "metadata": {},
   "source": [
    "## 3. Test the assumptions of your selected test."
   ]
  },
  {
   "cell_type": "code",
   "execution_count": 14,
   "id": "86d96357-d876-421c-adba-00932f3ab50d",
   "metadata": {},
   "outputs": [],
   "source": [
    "# Equal Variance\n",
    "_, p_value_3 = bartlett(df[df['region'] == 'southwest']['charges'],\n",
    "                                 df[df['region'] == 'southeast']['charges'],\n",
    "                                 df[df['region'] == 'northwest']['charges'],\n",
    "                                 df[df['region'] == 'northeast']['charges'])"
   ]
  },
  {
   "cell_type": "code",
   "execution_count": 15,
   "id": "fed09141-8ff7-4de3-b873-67d849ec9c6f",
   "metadata": {},
   "outputs": [],
   "source": [
    "# Normality for each group\n",
    "_, p_value_normality_southwest = shapiro(df[df['region'] == 'southwest']['charges'])\n",
    "_, p_value_normality_southeast = shapiro(df[df['region'] == 'southeast']['charges'])\n",
    "_, p_value_normality_northwest = shapiro(df[df['region'] == 'northwest']['charges'])\n",
    "_, p_value_normality_northeast = shapiro(df[df['region'] == 'northeast']['charges'])"
   ]
  },
  {
   "cell_type": "code",
   "execution_count": 16,
   "id": "03b9a2fe-c9c6-47c2-9bf2-2c1a6c57b68e",
   "metadata": {},
   "outputs": [
    {
     "name": "stdout",
     "output_type": "stream",
     "text": [
      "Equal variance assumption not satisfied. Consider non-parametric alternatives.\n",
      "Normality assumption not satisfied for one or more regions. Consider non-parametric alternatives.\n"
     ]
    }
   ],
   "source": [
    "# Summary\n",
    "if p_value_variances > 0.05:\n",
    "    print(\"Equal variance assumption satisfied.\")\n",
    "else:\n",
    "    print(\"Equal variance assumption not satisfied. Consider non-parametric alternatives.\")\n",
    "\n",
    "if all(p_value > 0.05 for p_value in [p_value_normality_southwest, p_value_normality_southeast, p_value_normality_northwest, p_value_normality_northeast]):\n",
    "    print(\"Normality assumption satisfied for all regions.\")\n",
    "else:\n",
    "    print(\"Normality assumption not satisfied for one or more regions. Consider non-parametric alternatives.\")"
   ]
  },
  {
   "cell_type": "markdown",
   "id": "3178f3c4-8101-43bd-be69-e5a84f0d0d8d",
   "metadata": {},
   "source": [
    "## 4. Execute the selected test, or the alternative test (if you do not meet the assumptions)E"
   ]
  },
  {
   "cell_type": "code",
   "execution_count": 17,
   "id": "77958df2-1f0f-41c1-b59c-1447029014a7",
   "metadata": {},
   "outputs": [],
   "source": [
    "# ANOVA\n",
    "f_stat, p_value_3 = f_oneway(df[df['region'] == 'southwest']['charges'],\n",
    "                            df[df['region'] == 'southeast']['charges'],\n",
    "                            df[df['region'] == 'northwest']['charges'],\n",
    "                            df[df['region'] == 'northeast']['charges'])"
   ]
  },
  {
   "cell_type": "markdown",
   "id": "2eb8290e-d47e-42d6-809d-96683a7a9d92",
   "metadata": {},
   "source": [
    "## 5. Interpret your p-value and reject or fail to reject your null hypothesis"
   ]
  },
  {
   "cell_type": "code",
   "execution_count": 18,
   "id": "1b14ebab-af4c-466a-8eb3-02ff1f808063",
   "metadata": {},
   "outputs": [
    {
     "name": "stdout",
     "output_type": "stream",
     "text": [
      "Reject the null hypothesis. Insurance charges are significantly different across regions.\n"
     ]
    }
   ],
   "source": [
    "# Interpretation\n",
    "if p_value_3 < 0.05:\n",
    "    print(\"Reject the null hypothesis. Insurance charges are significantly different across regions.\")\n",
    "else:\n",
    "    print(\"Fail to reject the null hypothesis.\")"
   ]
  },
  {
   "cell_type": "markdown",
   "id": "fe7e25a3-391a-4340-b660-4437a911ae60",
   "metadata": {},
   "source": [
    "## 6. Show a supporting visualization that helps display the result"
   ]
  },
  {
   "cell_type": "code",
   "execution_count": 19,
   "id": "f4075a25-cc68-46c8-a2c7-8535f83db08f",
   "metadata": {},
   "outputs": [
    {
     "data": {
      "image/png": "[encoded data removed]",
      "text/plain": [
       "<Figure size 640x480 with 1 Axes>"
      ]
     },
     "metadata": {},
     "output_type": "display_data"
    }
   ],
   "source": [
    "# Viz\n",
    "df.boxplot('charges', by='region')\n",
    "plt.title('Insurance Charges Across Regions')\n",
    "plt.xlabel('Region')\n",
    "plt.ylabel('Insurance Charges')\n",
    "plt.suptitle('')\n",
    "plt.show()"
   ]
  }
 ],
 "metadata": {
  "kernelspec": {
   "display_name": "Python (dojo-env)",
   "language": "python",
   "name": "dojo-env"
  },
  "language_info": {
   "codemirror_mode": {
    "name": "ipython",
    "version": 3
   },
   "file_extension": ".py",
   "mimetype": "text/x-python",
   "name": "python",
   "nbconvert_exporter": "python",
   "pygments_lexer": "ipython3",
   "version": "3.10.10"
  },
  "widgets": {
   "application/vnd.jupyter.widget-state+json": {
    "state": {},
    "version_major": 2,
    "version_minor": 0
   }
  }
 },
 "nbformat": 4,
 "nbformat_minor": 5
}
